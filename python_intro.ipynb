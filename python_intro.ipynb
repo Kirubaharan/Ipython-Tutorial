{
 "metadata": {
  "name": "",
  "signature": "sha256:e8f3d38ccafc342fbcb922781aa2e0a2418d31b44638c05771b7c3fc4fa7f558"
 },
 "nbformat": 3,
 "nbformat_minor": 0,
 "worksheets": [
  {
   "cells": [
    {
     "cell_type": "heading",
     "level": 1,
     "metadata": {},
     "source": [
      "Introduction to Python"
     ]
    },
    {
     "cell_type": "markdown",
     "metadata": {},
     "source": [
      "Kirubaharan Jeremiah (kiruba.haran@atree.org, harankiruba@gmail.com)"
     ]
    },
    {
     "cell_type": "code",
     "collapsed": false,
     "input": [
      "import pyreadline"
     ],
     "language": "python",
     "metadata": {},
     "outputs": [],
     "prompt_number": 3
    },
    {
     "cell_type": "code",
     "collapsed": false,
     "input": [
      "from IPython.display import Image"
     ],
     "language": "python",
     "metadata": {},
     "outputs": [],
     "prompt_number": 4
    },
    {
     "cell_type": "heading",
     "level": 2,
     "metadata": {},
     "source": [
      "Basic Math calculation"
     ]
    },
    {
     "cell_type": "code",
     "collapsed": false,
     "input": [
      "2 +2"
     ],
     "language": "python",
     "metadata": {},
     "outputs": [
      {
       "metadata": {},
       "output_type": "pyout",
       "prompt_number": 5,
       "text": [
        "4"
       ]
      }
     ],
     "prompt_number": 5
    },
    {
     "cell_type": "code",
     "collapsed": false,
     "input": [
      "3 - 5"
     ],
     "language": "python",
     "metadata": {},
     "outputs": [
      {
       "metadata": {},
       "output_type": "pyout",
       "prompt_number": 6,
       "text": [
        "-2"
       ]
      }
     ],
     "prompt_number": 6
    },
    {
     "cell_type": "code",
     "collapsed": false,
     "input": [
      "5/2"
     ],
     "language": "python",
     "metadata": {},
     "outputs": [
      {
       "metadata": {},
       "output_type": "pyout",
       "prompt_number": 7,
       "text": [
        "2"
       ]
      }
     ],
     "prompt_number": 7
    },
    {
     "cell_type": "code",
     "collapsed": false,
     "input": [
      "5/2.0"
     ],
     "language": "python",
     "metadata": {},
     "outputs": [
      {
       "metadata": {},
       "output_type": "pyout",
       "prompt_number": 8,
       "text": [
        "2.5"
       ]
      }
     ],
     "prompt_number": 8
    },
    {
     "cell_type": "code",
     "collapsed": false,
     "input": [
      "6*10"
     ],
     "language": "python",
     "metadata": {},
     "outputs": [
      {
       "metadata": {},
       "output_type": "pyout",
       "prompt_number": 9,
       "text": [
        "60"
       ]
      }
     ],
     "prompt_number": 9
    },
    {
     "cell_type": "markdown",
     "metadata": {},
     "source": [
      "No need of defining number type, but If your input is integer , the output will also be integer."
     ]
    },
    {
     "cell_type": "heading",
     "level": 2,
     "metadata": {},
     "source": [
      "Python objects"
     ]
    },
    {
     "cell_type": "code",
     "collapsed": false,
     "input": [
      "a = 10\n",
      "b = 5\n",
      "print a*b"
     ],
     "language": "python",
     "metadata": {},
     "outputs": [
      {
       "output_type": "stream",
       "stream": "stdout",
       "text": [
        "50\n"
       ]
      }
     ],
     "prompt_number": 10
    },
    {
     "cell_type": "markdown",
     "metadata": {},
     "source": [
      "Python is an object oriented language, where u can assign values to python objects(variables) using '='"
     ]
    },
    {
     "cell_type": "heading",
     "level": 2,
     "metadata": {},
     "source": [
      "String and Printing  output"
     ]
    },
    {
     "cell_type": "code",
     "collapsed": false,
     "input": [
      "sample = 'This is a sample string'"
     ],
     "language": "python",
     "metadata": {},
     "outputs": [],
     "prompt_number": 11
    },
    {
     "cell_type": "code",
     "collapsed": false,
     "input": [
      "sample = \"python strings can also include ' apostrophe \""
     ],
     "language": "python",
     "metadata": {},
     "outputs": [],
     "prompt_number": 12
    },
    {
     "cell_type": "code",
     "collapsed": false,
     "input": [
      "sample = ''' python also accepts multi-line \n",
      "string'''"
     ],
     "language": "python",
     "metadata": {},
     "outputs": [],
     "prompt_number": 13
    },
    {
     "cell_type": "code",
     "collapsed": false,
     "input": [
      "print sample"
     ],
     "language": "python",
     "metadata": {},
     "outputs": [
      {
       "output_type": "stream",
       "stream": "stdout",
       "text": [
        " python also accepts multi-line \n",
        "string\n"
       ]
      }
     ],
     "prompt_number": 14
    },
    {
     "cell_type": "code",
     "collapsed": false,
     "input": [
      "a = 10"
     ],
     "language": "python",
     "metadata": {},
     "outputs": [],
     "prompt_number": 15
    },
    {
     "cell_type": "code",
     "collapsed": false,
     "input": [
      "print \" My variable a is equal to %s\" %a"
     ],
     "language": "python",
     "metadata": {},
     "outputs": [
      {
       "output_type": "stream",
       "stream": "stdout",
       "text": [
        " My variable a is equal to 10\n"
       ]
      }
     ],
     "prompt_number": 16
    },
    {
     "cell_type": "code",
     "collapsed": false,
     "input": [
      "print 10 * 'A'"
     ],
     "language": "python",
     "metadata": {},
     "outputs": [
      {
       "output_type": "stream",
       "stream": "stdout",
       "text": [
        "AAAAAAAAAA\n"
       ]
      }
     ],
     "prompt_number": 17
    },
    {
     "cell_type": "heading",
     "level": 2,
     "metadata": {},
     "source": [
      "Lists"
     ]
    },
    {
     "cell_type": "markdown",
     "metadata": {},
     "source": [
      "There are also tuples and dictionary , similar to list, might be needed for specific use and application. "
     ]
    },
    {
     "cell_type": "markdown",
     "metadata": {},
     "source": [
      "You can store string or numbers in list, you can create a empty list and append values into it"
     ]
    },
    {
     "cell_type": "code",
     "collapsed": false,
     "input": [
      "vowels = ['a', 'e', 'i', 'o', 'u']"
     ],
     "language": "python",
     "metadata": {},
     "outputs": [],
     "prompt_number": 18
    },
    {
     "cell_type": "code",
     "collapsed": false,
     "input": [
      "print vowels"
     ],
     "language": "python",
     "metadata": {},
     "outputs": [
      {
       "output_type": "stream",
       "stream": "stdout",
       "text": [
        "['a', 'e', 'i', 'o', 'u']\n"
       ]
      }
     ],
     "prompt_number": 19
    },
    {
     "cell_type": "code",
     "collapsed": false,
     "input": [
      "print vowels[0]"
     ],
     "language": "python",
     "metadata": {},
     "outputs": [
      {
       "output_type": "stream",
       "stream": "stdout",
       "text": [
        "a\n"
       ]
      }
     ],
     "prompt_number": 20
    },
    {
     "cell_type": "code",
     "collapsed": false,
     "input": [
      "print  vowels[-1]"
     ],
     "language": "python",
     "metadata": {},
     "outputs": [
      {
       "output_type": "stream",
       "stream": "stdout",
       "text": [
        "u\n"
       ]
      }
     ],
     "prompt_number": 21
    },
    {
     "cell_type": "code",
     "collapsed": false,
     "input": [
      "empty_list = []"
     ],
     "language": "python",
     "metadata": {},
     "outputs": [],
     "prompt_number": 22
    },
    {
     "cell_type": "code",
     "collapsed": false,
     "input": [
      "empty_list.append(10)"
     ],
     "language": "python",
     "metadata": {},
     "outputs": [],
     "prompt_number": 23
    },
    {
     "cell_type": "code",
     "collapsed": false,
     "input": [
      "print empty_list"
     ],
     "language": "python",
     "metadata": {},
     "outputs": [
      {
       "output_type": "stream",
       "stream": "stdout",
       "text": [
        "[10]\n"
       ]
      }
     ],
     "prompt_number": 24
    },
    {
     "cell_type": "code",
     "collapsed": false,
     "input": [
      "for letter in vowels:\n",
      "    print letter"
     ],
     "language": "python",
     "metadata": {},
     "outputs": [
      {
       "output_type": "stream",
       "stream": "stdout",
       "text": [
        "a\n",
        "e\n",
        "i\n",
        "o\n",
        "u\n"
       ]
      }
     ],
     "prompt_number": 25
    },
    {
     "cell_type": "markdown",
     "metadata": {},
     "source": [
      "A simple for loop using values from list."
     ]
    },
    {
     "cell_type": "heading",
     "level": 2,
     "metadata": {},
     "source": [
      "Code formatting in python"
     ]
    },
    {
     "cell_type": "code",
     "collapsed": false,
     "input": [
      "Image(filename=r\"C:\\Users\\Kiruba Haran\\Pictures\\blocks.png\")"
     ],
     "language": "python",
     "metadata": {},
     "outputs": [
      {
       "metadata": {},
       "output_type": "pyout",
       "png": "[encoded data removed]",
       "prompt_number": 26,
       "text": [
        "<IPython.core.display.Image at 0x7beda58>"
       ]
      }
     ],
     "prompt_number": 26
    },
    {
     "cell_type": "markdown",
     "metadata": {},
     "source": [
      "Source: http://www.python-course.eu/python3_blocks.php"
     ]
    },
    {
     "cell_type": "markdown",
     "metadata": {},
     "source": [
      "An example code for python indentation"
     ]
    },
    {
     "cell_type": "code",
     "collapsed": false,
     "input": [
      " for l1, l2 in pairwise(y_value_list):\n",
      "        results = []\n",
      "        profile = elevation_data[\"Y_%s\" % float(l1)]\n",
      "        order = l1\n",
      "        dy = int(l2 - l1)\n",
      "        for stage in dz:\n",
      "            water_area = 0\n",
      "            for z1, z2 in pairwise(profile):\n",
      "            delev = (z2 - z1) / 10\n",
      "            elev = z1\n",
      "            for b in range(1, 11, 1):\n",
      "                elev += delev\n",
      "                if stage > elev:\n",
      "                    water_area += (0.1 * (stage - elev))\n",
      "            calc_vol = water_area * dy\n",
      "            results.append(calc_vol)"
     ],
     "language": "python",
     "metadata": {},
     "outputs": [
      {
       "ename": "IndentationError",
       "evalue": "expected an indented block (<ipython-input-27-7b40d86003dd>, line 9)",
       "output_type": "pyerr",
       "traceback": [
        "\u001b[1;36m  File \u001b[1;32m\"<ipython-input-27-7b40d86003dd>\"\u001b[1;36m, line \u001b[1;32m9\u001b[0m\n\u001b[1;33m    delev = (z2 - z1) / 10\u001b[0m\n\u001b[1;37m        ^\u001b[0m\n\u001b[1;31mIndentationError\u001b[0m\u001b[1;31m:\u001b[0m expected an indented block\n"
       ]
      }
     ],
     "prompt_number": 27
    },
    {
     "cell_type": "heading",
     "level": 2,
     "metadata": {},
     "source": [
      "Functions"
     ]
    },
    {
     "cell_type": "code",
     "collapsed": false,
     "input": [
      "def multiply_two_numbers(a, b):\n",
      "    product = a* b\n",
      "    return product"
     ],
     "language": "python",
     "metadata": {},
     "outputs": [],
     "prompt_number": 28
    },
    {
     "cell_type": "code",
     "collapsed": false,
     "input": [
      "multiply_two_numbers(10, 6)"
     ],
     "language": "python",
     "metadata": {},
     "outputs": [
      {
       "metadata": {},
       "output_type": "pyout",
       "prompt_number": 29,
       "text": [
        "60"
       ]
      }
     ],
     "prompt_number": 29
    },
    {
     "cell_type": "heading",
     "level": 2,
     "metadata": {},
     "source": [
      "Import python modules"
     ]
    },
    {
     "cell_type": "code",
     "collapsed": false,
     "input": [
      "import itertools"
     ],
     "language": "python",
     "metadata": {},
     "outputs": [],
     "prompt_number": 30
    },
    {
     "cell_type": "code",
     "collapsed": false,
     "input": [
      "from datetime import timedelta"
     ],
     "language": "python",
     "metadata": {},
     "outputs": [],
     "prompt_number": 31
    },
    {
     "cell_type": "code",
     "collapsed": false,
     "input": [
      "import numpy as np"
     ],
     "language": "python",
     "metadata": {},
     "outputs": [],
     "prompt_number": 32
    },
    {
     "cell_type": "code",
     "collapsed": false,
     "input": [
      "import pandas as pd"
     ],
     "language": "python",
     "metadata": {},
     "outputs": [],
     "prompt_number": 33
    },
    {
     "cell_type": "code",
     "collapsed": false,
     "input": [
      "import matplotlib.pyplot as plt"
     ],
     "language": "python",
     "metadata": {},
     "outputs": [],
     "prompt_number": 34
    },
    {
     "cell_type": "markdown",
     "metadata": {},
     "source": [
      "pip install package_name"
     ]
    },
    {
     "cell_type": "markdown",
     "metadata": {},
     "source": [
      "numpy for array operation, pandas for datastructures and dataanalysis similar to R's dataframe and matplotlib for plotting"
     ]
    },
    {
     "cell_type": "heading",
     "level": 2,
     "metadata": {},
     "source": [
      "File I/O"
     ]
    },
    {
     "cell_type": "markdown",
     "metadata": {},
     "source": [
      "This tutorial will cover how to read and write csv text files using pandas, but you can refer to following links for reading and writing excel files"
     ]
    },
    {
     "cell_type": "markdown",
     "metadata": {},
     "source": [
      "http://www.simplistix.co.uk/presentations/python-excel.pdf"
     ]
    },
    {
     "cell_type": "markdown",
     "metadata": {},
     "source": [
      "http://www.python-excel.org/"
     ]
    },
    {
     "cell_type": "code",
     "collapsed": false,
     "input": [
      "csv_file = 'E:\\ACCUWA_Data\\weather_station\\smgollahalli\\smgoll_01_05_14_10_1_15.csv'"
     ],
     "language": "python",
     "metadata": {},
     "outputs": [],
     "prompt_number": 35
    },
    {
     "cell_type": "code",
     "collapsed": false,
     "input": [
      "df = pd.read_csv(csv_file, sep = ',', header=0)"
     ],
     "language": "python",
     "metadata": {},
     "outputs": [],
     "prompt_number": 36
    },
    {
     "cell_type": "code",
     "collapsed": false,
     "input": [
      "print df.head()  # prints first five rows of dataframe"
     ],
     "language": "python",
     "metadata": {},
     "outputs": [
      {
       "output_type": "stream",
       "stream": "stdout",
       "text": [
        "       Date      Time  Wind direction (degrees)  Wind Speed (kmph)  \\\n",
        "0  10/01/15  23:50:10                   349.754                  0   \n",
        "1  10/01/15  23:40:10                   349.754                  0   \n",
        "2  10/01/15  23:30:08                   349.754                  0   \n",
        "3  10/01/15  23:20:10                   349.754                  0   \n",
        "4  10/01/15  23:10:10                   349.754                  0   \n",
        "\n",
        "   Min Wind Speed (kmph)  Max Wind Speed (kmph)  Air Temperature (\u00b0C)  \\\n",
        "0                      0                      0               11.8770   \n",
        "1                      0                      0               12.1535   \n",
        "2                      0                      0               12.4425   \n",
        "3                      0                      0               12.8733   \n",
        "4                      0                      0               13.5875   \n",
        "\n",
        "   Min Air Temperature (\u00b0C)  Max Air Temperature (\u00b0C)  Rain Collection (mm)  \\\n",
        "0                     11.62                     12.02                     0   \n",
        "1                     12.00                     12.32                     0   \n",
        "2                     12.34                     12.56                     0   \n",
        "3                     12.60                     13.09                     0   \n",
        "4                     13.16                     13.98                     0   \n",
        "\n",
        "   Humidity (%)  Barometric Pressure (KPa)  Solar Radiation (Wpm2)  \\\n",
        "0       67.4104                          0                       0   \n",
        "1       64.6852                          0                       0   \n",
        "2       63.3507                          0                       0   \n",
        "3       62.2637                          0                       0   \n",
        "4       60.1517                          0                       0   \n",
        "\n",
        "   Soil Moisture  Leaf Wetness  Canopy temperature (\u00b0C)  Evapotranspiration  \\\n",
        "0              0             0                        0                   0   \n",
        "1              0             0                        0                   0   \n",
        "2              0             0                        0                   0   \n",
        "3              0             0                        0                   0   \n",
        "4              0             0                        0                   0   \n",
        "\n",
        "   Charging status  Solar panel voltage  Network strength  Battery strength  \n",
        "0                0                    0                 4                 3  \n",
        "1                0                    0                 4                 3  \n",
        "2                0                    0                 4                 3  \n",
        "3                0                    0                 4                 3  \n",
        "4                0                    0                 4                 3  \n"
       ]
      }
     ],
     "prompt_number": 37
    },
    {
     "cell_type": "heading",
     "level": 2,
     "metadata": {},
     "source": [
      "Setting Index (Date time)"
     ]
    },
    {
     "cell_type": "code",
     "collapsed": false,
     "input": [
      "df['Date_Time'] = pd.to_datetime(df['Date'] +  '  ' + df['Time'], format ='%d/%m/%y %H:%M:%S')"
     ],
     "language": "python",
     "metadata": {},
     "outputs": [],
     "prompt_number": 38
    },
    {
     "cell_type": "code",
     "collapsed": false,
     "input": [
      "df.set_index(df['Date_Time'], inplace=True)"
     ],
     "language": "python",
     "metadata": {},
     "outputs": [],
     "prompt_number": 39
    },
    {
     "cell_type": "code",
     "collapsed": false,
     "input": [
      "print df.head()"
     ],
     "language": "python",
     "metadata": {},
     "outputs": [
      {
       "output_type": "stream",
       "stream": "stdout",
       "text": [
        "                         Date      Time  Wind direction (degrees)  \\\n",
        "Date_Time                                                           \n",
        "2015-01-10 23:50:10  10/01/15  23:50:10                   349.754   \n",
        "2015-01-10 23:40:10  10/01/15  23:40:10                   349.754   \n",
        "2015-01-10 23:30:08  10/01/15  23:30:08                   349.754   \n",
        "2015-01-10 23:20:10  10/01/15  23:20:10                   349.754   \n",
        "2015-01-10 23:10:10  10/01/15  23:10:10                   349.754   \n",
        "\n",
        "                     Wind Speed (kmph)  Min Wind Speed (kmph)  \\\n",
        "Date_Time                                                       \n",
        "2015-01-10 23:50:10                  0                      0   \n",
        "2015-01-10 23:40:10                  0                      0   \n",
        "2015-01-10 23:30:08                  0                      0   \n",
        "2015-01-10 23:20:10                  0                      0   \n",
        "2015-01-10 23:10:10                  0                      0   \n",
        "\n",
        "                     Max Wind Speed (kmph)  Air Temperature (\u00b0C)  \\\n",
        "Date_Time                                                          \n",
        "2015-01-10 23:50:10                      0               11.8770   \n",
        "2015-01-10 23:40:10                      0               12.1535   \n",
        "2015-01-10 23:30:08                      0               12.4425   \n",
        "2015-01-10 23:20:10                      0               12.8733   \n",
        "2015-01-10 23:10:10                      0               13.5875   \n",
        "\n",
        "                     Min Air Temperature (\u00b0C)  Max Air Temperature (\u00b0C)  \\\n",
        "Date_Time                                                                 \n",
        "2015-01-10 23:50:10                     11.62                     12.02   \n",
        "2015-01-10 23:40:10                     12.00                     12.32   \n",
        "2015-01-10 23:30:08                     12.34                     12.56   \n",
        "2015-01-10 23:20:10                     12.60                     13.09   \n",
        "2015-01-10 23:10:10                     13.16                     13.98   \n",
        "\n",
        "                     Rain Collection (mm)  Humidity (%)  \\\n",
        "Date_Time                                                 \n",
        "2015-01-10 23:50:10                     0       67.4104   \n",
        "2015-01-10 23:40:10                     0       64.6852   \n",
        "2015-01-10 23:30:08                     0       63.3507   \n",
        "2015-01-10 23:20:10                     0       62.2637   \n",
        "2015-01-10 23:10:10                     0       60.1517   \n",
        "\n",
        "                     Barometric Pressure (KPa)  Solar Radiation (Wpm2)  \\\n",
        "Date_Time                                                                \n",
        "2015-01-10 23:50:10                          0                       0   \n",
        "2015-01-10 23:40:10                          0                       0   \n",
        "2015-01-10 23:30:08                          0                       0   \n",
        "2015-01-10 23:20:10                          0                       0   \n",
        "2015-01-10 23:10:10                          0                       0   \n",
        "\n",
        "                     Soil Moisture  Leaf Wetness  Canopy temperature (\u00b0C)  \\\n",
        "Date_Time                                                                   \n",
        "2015-01-10 23:50:10              0             0                        0   \n",
        "2015-01-10 23:40:10              0             0                        0   \n",
        "2015-01-10 23:30:08              0             0                        0   \n",
        "2015-01-10 23:20:10              0             0                        0   \n",
        "2015-01-10 23:10:10              0             0                        0   \n",
        "\n",
        "                     Evapotranspiration  Charging status  Solar panel voltage  \\\n",
        "Date_Time                                                                       \n",
        "2015-01-10 23:50:10                   0                0                    0   \n",
        "2015-01-10 23:40:10                   0                0                    0   \n",
        "2015-01-10 23:30:08                   0                0                    0   \n",
        "2015-01-10 23:20:10                   0                0                    0   \n",
        "2015-01-10 23:10:10                   0                0                    0   \n",
        "\n",
        "                     Network strength  Battery strength           Date_Time  \n",
        "Date_Time                                                                    \n",
        "2015-01-10 23:50:10                 4                 3 2015-01-10 23:50:10  \n",
        "2015-01-10 23:40:10                 4                 3 2015-01-10 23:40:10  \n",
        "2015-01-10 23:30:08                 4                 3 2015-01-10 23:30:08  \n",
        "2015-01-10 23:20:10                 4                 3 2015-01-10 23:20:10  \n",
        "2015-01-10 23:10:10                 4                 3 2015-01-10 23:10:10  \n"
       ]
      }
     ],
     "prompt_number": 40
    },
    {
     "cell_type": "code",
     "collapsed": false,
     "input": [
      "df.sort_index(inplace=True)"
     ],
     "language": "python",
     "metadata": {},
     "outputs": [],
     "prompt_number": 41
    },
    {
     "cell_type": "heading",
     "level": 2,
     "metadata": {},
     "source": [
      "Slicing or Subsetting a dataframe"
     ]
    },
    {
     "cell_type": "code",
     "collapsed": false,
     "input": [
      "df_subset = df['2014-05-01' : '2014-06-01']"
     ],
     "language": "python",
     "metadata": {},
     "outputs": [],
     "prompt_number": 42
    },
    {
     "cell_type": "code",
     "collapsed": false,
     "input": [
      "df_subset = df.ix[2:3, 0:10]"
     ],
     "language": "python",
     "metadata": {},
     "outputs": [],
     "prompt_number": 43
    },
    {
     "cell_type": "code",
     "collapsed": false,
     "input": [
      "df_subset = df['2014-05-20']['Wind Speed (kmph)']"
     ],
     "language": "python",
     "metadata": {},
     "outputs": [],
     "prompt_number": 44
    },
    {
     "cell_type": "code",
     "collapsed": false,
     "input": [
      "print df_subset"
     ],
     "language": "python",
     "metadata": {},
     "outputs": [
      {
       "output_type": "stream",
       "stream": "stdout",
       "text": [
        "Date_Time\n",
        "2014-05-20 00:00:07     7.2360\n",
        "2014-05-20 00:30:09     5.9019\n",
        "2014-05-20 01:00:07     3.9095\n",
        "2014-05-20 01:30:05     1.5657\n",
        "2014-05-20 02:00:07     0.3862\n",
        "2014-05-20 02:30:10     0.1690\n",
        "2014-05-20 03:00:10     0.5311\n",
        "2014-05-20 03:30:05     0.0000\n",
        "2014-05-20 04:00:08     0.0000\n",
        "2014-05-20 04:30:07     0.0000\n",
        "2014-05-20 05:00:10     0.0202\n",
        "2014-05-20 05:30:10     0.1029\n",
        "2014-05-20 06:00:07     0.0101\n",
        "2014-05-20 06:30:14     1.5590\n",
        "2014-05-20 07:00:10     3.8354\n",
        "2014-05-20 07:30:11     3.5080\n",
        "2014-05-20 08:00:07     4.5146\n",
        "2014-05-20 08:30:10     4.9040\n",
        "2014-05-20 09:00:10     3.6069\n",
        "2014-05-20 09:30:09     5.6950\n",
        "2014-05-20 10:00:07     5.3720\n",
        "2014-05-20 10:30:10     4.3291\n",
        "2014-05-20 11:00:10     4.2544\n",
        "2014-05-20 11:30:07     4.7729\n",
        "2014-05-20 12:00:10     4.7951\n",
        "2014-05-20 12:30:07     4.5025\n",
        "2014-05-20 13:00:13     7.1957\n",
        "2014-05-20 13:30:10     7.0383\n",
        "2014-05-20 14:00:10     6.6227\n",
        "2014-05-20 14:30:07     6.6913\n",
        "2014-05-20 15:00:10     6.9051\n",
        "2014-05-20 15:30:11     7.4014\n",
        "2014-05-20 16:00:07     6.6933\n",
        "2014-05-20 16:30:10     8.1397\n",
        "2014-05-20 17:00:14     6.4051\n",
        "2014-05-20 17:30:05     7.9096\n",
        "2014-05-20 18:00:20    11.7312\n",
        "2014-05-20 18:30:10     9.7124\n",
        "2014-05-20 19:00:07    10.6498\n",
        "2014-05-20 19:30:07    10.2857\n",
        "2014-05-20 20:00:08     9.4207\n",
        "2014-05-20 20:30:14     9.8659\n",
        "2014-05-20 21:00:09     7.5777\n",
        "2014-05-20 21:30:13     1.2245\n",
        "2014-05-20 22:00:10     1.6224\n",
        "2014-05-20 22:30:10     1.7026\n",
        "2014-05-20 23:00:07     6.3589\n",
        "2014-05-20 23:30:10     7.1916\n",
        "Name: Wind Speed (kmph), dtype: float64\n"
       ]
      }
     ],
     "prompt_number": 45
    },
    {
     "cell_type": "heading",
     "level": 2,
     "metadata": {},
     "source": [
      "Merging joining two dataframes"
     ]
    },
    {
     "cell_type": "code",
     "collapsed": false,
     "input": [
      "df_1 = df[['Wind Speed (kmph)']]"
     ],
     "language": "python",
     "metadata": {},
     "outputs": [],
     "prompt_number": 59
    },
    {
     "cell_type": "code",
     "collapsed": false,
     "input": [
      "df_2 = df[['Humidity (%)']]"
     ],
     "language": "python",
     "metadata": {},
     "outputs": [],
     "prompt_number": 60
    },
    {
     "cell_type": "code",
     "collapsed": false,
     "input": [
      "df3 = df_1.join(df_2, how='right')"
     ],
     "language": "python",
     "metadata": {},
     "outputs": [],
     "prompt_number": 62
    },
    {
     "cell_type": "code",
     "collapsed": false,
     "input": [
      "print df3.head()"
     ],
     "language": "python",
     "metadata": {},
     "outputs": [
      {
       "output_type": "stream",
       "stream": "stdout",
       "text": [
        "                     Wind Speed (kmph)  Humidity (%)\n",
        "Date_Time                                           \n",
        "2014-05-01 00:00:07             2.7761       45.1488\n",
        "2014-05-01 00:30:09             4.0032       47.0497\n",
        "2014-05-01 01:00:07             4.0245       49.8089\n",
        "2014-05-01 01:30:05             5.5596       56.1072\n",
        "2014-05-01 02:00:20             6.4998       65.2203\n"
       ]
      }
     ],
     "prompt_number": 64
    },
    {
     "cell_type": "heading",
     "level": 2,
     "metadata": {},
     "source": [
      "Aggregate data based on datetime index"
     ]
    },
    {
     "cell_type": "code",
     "collapsed": false,
     "input": [
      "df_daily_data = df.resample('D', how=np.sum)"
     ],
     "language": "python",
     "metadata": {},
     "outputs": []
    },
    {
     "cell_type": "code",
     "collapsed": false,
     "input": [
      "print df_daily_data"
     ],
     "language": "python",
     "metadata": {},
     "outputs": []
    },
    {
     "cell_type": "heading",
     "level": 2,
     "metadata": {},
     "source": [
      "File Output"
     ]
    },
    {
     "cell_type": "code",
     "collapsed": false,
     "input": [
      "df_daily_data.to_csv('E:\\ACCUWA_Data\\weather_station\\smgollahalli\\daily_tutorial.csv)"
     ],
     "language": "python",
     "metadata": {},
     "outputs": []
    },
    {
     "cell_type": "heading",
     "level": 1,
     "metadata": {},
     "source": [
      "Basic Plotting"
     ]
    },
    {
     "cell_type": "heading",
     "level": 3,
     "metadata": {},
     "source": [
      "Scatterplots"
     ]
    },
    {
     "cell_type": "code",
     "collapsed": false,
     "input": [
      "%matplotlib inline"
     ],
     "language": "python",
     "metadata": {},
     "outputs": [],
     "prompt_number": 48
    },
    {
     "cell_type": "code",
     "collapsed": false,
     "input": [
      "fig = plt.figure()\n",
      "plt.plot(df['Humidity (%)'], df['Air Temperature (\u00b0C)'], 'ro')\n",
      "plt.xlabel('Humidity')\n",
      "plt.ylabel('Temperature')\n",
      "plt.show()"
     ],
     "language": "python",
     "metadata": {},
     "outputs": [
      {
       "metadata": {},
       "output_type": "display_data",
       "png": "[encoded data removed]",
       "text": [
        "<matplotlib.figure.Figure at 0x829dfd0>"
       ]
      }
     ],
     "prompt_number": 51
    },
    {
     "cell_type": "heading",
     "level": 3,
     "metadata": {},
     "source": [
      "Time series Bar plots with dates in X axis"
     ]
    },
    {
     "cell_type": "code",
     "collapsed": false,
     "input": [
      "fig = plt.figure()\n",
      "plt.bar(df.index, df['Rain Collection (mm)'], width=0.35, color='g')\n",
      "fig.autofmt_xdate(rotation=90)\n",
      "plt.show()"
     ],
     "language": "python",
     "metadata": {},
     "outputs": [
      {
       "metadata": {},
       "output_type": "display_data",
       "png": "[encoded data removed]",
       "text": [
        "<matplotlib.figure.Figure at 0x7bed8d0>"
       ]
      }
     ],
     "prompt_number": 53
    },
    {
     "cell_type": "markdown",
     "metadata": {},
     "source": [
      "For more tips and tricks with pandas you can try"
     ]
    },
    {
     "cell_type": "markdown",
     "metadata": {},
     "source": [
      "https://github.com/Kirubaharan/hydrology/blob/master/cheat_sheet.md"
     ]
    },
    {
     "cell_type": "markdown",
     "metadata": {},
     "source": [
      "Pandas : http://stackoverflow.com/questions/tagged/pandas"
     ]
    },
    {
     "cell_type": "markdown",
     "metadata": {},
     "source": [
      "Plotting : http://stackoverflow.com/questions/tagged/matplotlib"
     ]
    },
    {
     "cell_type": "markdown",
     "metadata": {},
     "source": [
      "Ask specific questions at stackoverflow.com"
     ]
    },
    {
     "cell_type": "heading",
     "level": 1,
     "metadata": {},
     "source": [
      "Thank You"
     ]
    }
   ],
   "metadata": {}
  }
 ]
}
